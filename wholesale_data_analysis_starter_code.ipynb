{
 "cells": [
  {
   "cell_type": "markdown",
   "id": "dc0318d6",
   "metadata": {},
   "source": [
    "## Part 1: Explore the Data\n",
    "\n",
    "Import the data and use Pandas to learn more about the dataset."
   ]
  },
  {
   "cell_type": "code",
   "execution_count": 14,
   "id": "e076f57f",
   "metadata": {},
   "outputs": [
    {
     "data": {
      "text/html": [
       "<div>\n",
       "<style scoped>\n",
       "    .dataframe tbody tr th:only-of-type {\n",
       "        vertical-align: middle;\n",
       "    }\n",
       "\n",
       "    .dataframe tbody tr th {\n",
       "        vertical-align: top;\n",
       "    }\n",
       "\n",
       "    .dataframe thead th {\n",
       "        text-align: right;\n",
       "    }\n",
       "</style>\n",
       "<table border=\"1\" class=\"dataframe\">\n",
       "  <thead>\n",
       "    <tr style=\"text-align: right;\">\n",
       "      <th></th>\n",
       "      <th>first</th>\n",
       "      <th>last</th>\n",
       "      <th>job</th>\n",
       "      <th>phone</th>\n",
       "      <th>email</th>\n",
       "      <th>client_id</th>\n",
       "      <th>order_id</th>\n",
       "      <th>order_date</th>\n",
       "      <th>order_week</th>\n",
       "      <th>order_year</th>\n",
       "      <th>item_id</th>\n",
       "      <th>category</th>\n",
       "      <th>subcategory</th>\n",
       "      <th>unit_price</th>\n",
       "      <th>unit_cost</th>\n",
       "      <th>unit_weight</th>\n",
       "      <th>qty</th>\n",
       "      <th>line_number</th>\n",
       "    </tr>\n",
       "  </thead>\n",
       "  <tbody>\n",
       "    <tr>\n",
       "      <th>0</th>\n",
       "      <td>Donald</td>\n",
       "      <td>Harding</td>\n",
       "      <td>Immunologist</td>\n",
       "      <td>793-904-7725x39308</td>\n",
       "      <td>harding.donald.7185@sullivan.com</td>\n",
       "      <td>58515</td>\n",
       "      <td>8953482</td>\n",
       "      <td>2023-04-28</td>\n",
       "      <td>17</td>\n",
       "      <td>2023</td>\n",
       "      <td>EUD29711-63-6U</td>\n",
       "      <td>decor</td>\n",
       "      <td>wall art</td>\n",
       "      <td>1096.80</td>\n",
       "      <td>762.71</td>\n",
       "      <td>7.50</td>\n",
       "      <td>105</td>\n",
       "      <td>1</td>\n",
       "    </tr>\n",
       "    <tr>\n",
       "      <th>1</th>\n",
       "      <td>Tiffany</td>\n",
       "      <td>Myers</td>\n",
       "      <td>Music therapist</td>\n",
       "      <td>201.442.4543x942</td>\n",
       "      <td>myers.t.6537@ferguson-johnson.net</td>\n",
       "      <td>37609</td>\n",
       "      <td>8069089</td>\n",
       "      <td>2023-05-19</td>\n",
       "      <td>20</td>\n",
       "      <td>2023</td>\n",
       "      <td>XDA18116-89-4A</td>\n",
       "      <td>consumables</td>\n",
       "      <td>pens</td>\n",
       "      <td>24.95</td>\n",
       "      <td>15.09</td>\n",
       "      <td>1.49</td>\n",
       "      <td>21</td>\n",
       "      <td>0</td>\n",
       "    </tr>\n",
       "    <tr>\n",
       "      <th>2</th>\n",
       "      <td>Shannon</td>\n",
       "      <td>Watson</td>\n",
       "      <td>Immunologist</td>\n",
       "      <td>687.737.9424x8503</td>\n",
       "      <td>swatson8146@payne.net</td>\n",
       "      <td>57113</td>\n",
       "      <td>1902144</td>\n",
       "      <td>2023-01-29</td>\n",
       "      <td>4</td>\n",
       "      <td>2023</td>\n",
       "      <td>ABE59463-05-7E</td>\n",
       "      <td>software</td>\n",
       "      <td>project management</td>\n",
       "      <td>13.52</td>\n",
       "      <td>7.86</td>\n",
       "      <td>1.68</td>\n",
       "      <td>39</td>\n",
       "      <td>6</td>\n",
       "    </tr>\n",
       "    <tr>\n",
       "      <th>3</th>\n",
       "      <td>Nathan</td>\n",
       "      <td>Baker</td>\n",
       "      <td>Accounting technician</td>\n",
       "      <td>827-788-8123x012</td>\n",
       "      <td>bakernathan@benson.com</td>\n",
       "      <td>46554</td>\n",
       "      <td>9031802</td>\n",
       "      <td>2023-04-25</td>\n",
       "      <td>17</td>\n",
       "      <td>2023</td>\n",
       "      <td>ZMM00836-65-0C</td>\n",
       "      <td>consumables</td>\n",
       "      <td>pens</td>\n",
       "      <td>36.42</td>\n",
       "      <td>24.85</td>\n",
       "      <td>1.23</td>\n",
       "      <td>29</td>\n",
       "      <td>3</td>\n",
       "    </tr>\n",
       "    <tr>\n",
       "      <th>4</th>\n",
       "      <td>Christina</td>\n",
       "      <td>Schwartz</td>\n",
       "      <td>Chiropractor</td>\n",
       "      <td>265-829-3643</td>\n",
       "      <td>christinaschwartz9252@mcconnell.com</td>\n",
       "      <td>92089</td>\n",
       "      <td>1322274</td>\n",
       "      <td>2023-05-28</td>\n",
       "      <td>21</td>\n",
       "      <td>2023</td>\n",
       "      <td>BZX55559-12-3X</td>\n",
       "      <td>consumables</td>\n",
       "      <td>misc</td>\n",
       "      <td>195.10</td>\n",
       "      <td>108.17</td>\n",
       "      <td>46.43</td>\n",
       "      <td>20</td>\n",
       "      <td>1</td>\n",
       "    </tr>\n",
       "  </tbody>\n",
       "</table>\n",
       "</div>"
      ],
      "text/plain": [
       "       first      last                    job               phone  \\\n",
       "0     Donald   Harding           Immunologist  793-904-7725x39308   \n",
       "1    Tiffany     Myers        Music therapist    201.442.4543x942   \n",
       "2    Shannon    Watson           Immunologist   687.737.9424x8503   \n",
       "3     Nathan     Baker  Accounting technician    827-788-8123x012   \n",
       "4  Christina  Schwartz           Chiropractor        265-829-3643   \n",
       "\n",
       "                                 email  client_id  order_id  order_date  \\\n",
       "0     harding.donald.7185@sullivan.com      58515   8953482  2023-04-28   \n",
       "1    myers.t.6537@ferguson-johnson.net      37609   8069089  2023-05-19   \n",
       "2                swatson8146@payne.net      57113   1902144  2023-01-29   \n",
       "3               bakernathan@benson.com      46554   9031802  2023-04-25   \n",
       "4  christinaschwartz9252@mcconnell.com      92089   1322274  2023-05-28   \n",
       "\n",
       "   order_week  order_year         item_id     category         subcategory  \\\n",
       "0          17        2023  EUD29711-63-6U        decor            wall art   \n",
       "1          20        2023  XDA18116-89-4A  consumables                pens   \n",
       "2           4        2023  ABE59463-05-7E     software  project management   \n",
       "3          17        2023  ZMM00836-65-0C  consumables                pens   \n",
       "4          21        2023  BZX55559-12-3X  consumables                misc   \n",
       "\n",
       "   unit_price  unit_cost  unit_weight  qty  line_number  \n",
       "0     1096.80     762.71         7.50  105            1  \n",
       "1       24.95      15.09         1.49   21            0  \n",
       "2       13.52       7.86         1.68   39            6  \n",
       "3       36.42      24.85         1.23   29            3  \n",
       "4      195.10     108.17        46.43   20            1  "
      ]
     },
     "execution_count": 14,
     "metadata": {},
     "output_type": "execute_result"
    }
   ],
   "source": [
    "import pandas as pd\n",
    "from pathlib import Path\n",
    "\n",
    "df = pd.read_csv('Resources/client_dataset.csv')\n",
    "\n",
    "df.head()\n"
   ]
  },
  {
   "cell_type": "code",
   "execution_count": 15,
   "id": "71b9bbd2",
   "metadata": {},
   "outputs": [
    {
     "name": "stdout",
     "output_type": "stream",
     "text": [
      "<class 'pandas.core.frame.DataFrame'>\n",
      "RangeIndex: 54639 entries, 0 to 54638\n",
      "Data columns (total 18 columns):\n",
      " #   Column       Non-Null Count  Dtype  \n",
      "---  ------       --------------  -----  \n",
      " 0   first        54639 non-null  object \n",
      " 1   last         54639 non-null  object \n",
      " 2   job          54639 non-null  object \n",
      " 3   phone        54639 non-null  object \n",
      " 4   email        54639 non-null  object \n",
      " 5   client_id    54639 non-null  int64  \n",
      " 6   order_id     54639 non-null  int64  \n",
      " 7   order_date   54639 non-null  object \n",
      " 8   order_week   54639 non-null  int64  \n",
      " 9   order_year   54639 non-null  int64  \n",
      " 10  item_id      54639 non-null  object \n",
      " 11  category     54639 non-null  object \n",
      " 12  subcategory  54639 non-null  object \n",
      " 13  unit_price   54639 non-null  float64\n",
      " 14  unit_cost    54639 non-null  float64\n",
      " 15  unit_weight  54639 non-null  float64\n",
      " 16  qty          54639 non-null  int64  \n",
      " 17  line_number  54639 non-null  int64  \n",
      "dtypes: float64(3), int64(6), object(9)\n",
      "memory usage: 7.5+ MB\n"
     ]
    }
   ],
   "source": [
    "# View the column names in the data\n",
    "df.info()\n"
   ]
  },
  {
   "cell_type": "code",
   "execution_count": 16,
   "id": "7cc0d607-f88d-4b5b-9935-46d62241e61a",
   "metadata": {},
   "outputs": [
    {
     "data": {
      "text/html": [
       "<div>\n",
       "<style scoped>\n",
       "    .dataframe tbody tr th:only-of-type {\n",
       "        vertical-align: middle;\n",
       "    }\n",
       "\n",
       "    .dataframe tbody tr th {\n",
       "        vertical-align: top;\n",
       "    }\n",
       "\n",
       "    .dataframe thead th {\n",
       "        text-align: right;\n",
       "    }\n",
       "</style>\n",
       "<table border=\"1\" class=\"dataframe\">\n",
       "  <thead>\n",
       "    <tr style=\"text-align: right;\">\n",
       "      <th></th>\n",
       "      <th>client_id</th>\n",
       "      <th>order_id</th>\n",
       "      <th>order_week</th>\n",
       "      <th>order_year</th>\n",
       "      <th>unit_price</th>\n",
       "      <th>unit_cost</th>\n",
       "      <th>unit_weight</th>\n",
       "      <th>qty</th>\n",
       "      <th>line_number</th>\n",
       "    </tr>\n",
       "  </thead>\n",
       "  <tbody>\n",
       "    <tr>\n",
       "      <th>count</th>\n",
       "      <td>54639.000000</td>\n",
       "      <td>5.463900e+04</td>\n",
       "      <td>54639.000000</td>\n",
       "      <td>54639.000000</td>\n",
       "      <td>54639.000000</td>\n",
       "      <td>54639.000000</td>\n",
       "      <td>54639.000000</td>\n",
       "      <td>5.463900e+04</td>\n",
       "      <td>54639.000000</td>\n",
       "    </tr>\n",
       "    <tr>\n",
       "      <th>mean</th>\n",
       "      <td>54837.869416</td>\n",
       "      <td>5.470190e+06</td>\n",
       "      <td>11.359139</td>\n",
       "      <td>2022.993064</td>\n",
       "      <td>136.267207</td>\n",
       "      <td>99.446073</td>\n",
       "      <td>5.004116</td>\n",
       "      <td>5.702646e+02</td>\n",
       "      <td>2.979667</td>\n",
       "    </tr>\n",
       "    <tr>\n",
       "      <th>std</th>\n",
       "      <td>25487.438231</td>\n",
       "      <td>2.599807e+06</td>\n",
       "      <td>7.023499</td>\n",
       "      <td>0.082997</td>\n",
       "      <td>183.873135</td>\n",
       "      <td>133.164267</td>\n",
       "      <td>5.326599</td>\n",
       "      <td>1.879552e+04</td>\n",
       "      <td>2.436320</td>\n",
       "    </tr>\n",
       "    <tr>\n",
       "      <th>min</th>\n",
       "      <td>10033.000000</td>\n",
       "      <td>1.000886e+06</td>\n",
       "      <td>1.000000</td>\n",
       "      <td>2022.000000</td>\n",
       "      <td>0.010000</td>\n",
       "      <td>0.010000</td>\n",
       "      <td>0.000000</td>\n",
       "      <td>0.000000e+00</td>\n",
       "      <td>0.000000</td>\n",
       "    </tr>\n",
       "    <tr>\n",
       "      <th>25%</th>\n",
       "      <td>33593.000000</td>\n",
       "      <td>3.196372e+06</td>\n",
       "      <td>6.000000</td>\n",
       "      <td>2023.000000</td>\n",
       "      <td>20.800000</td>\n",
       "      <td>14.840000</td>\n",
       "      <td>1.450000</td>\n",
       "      <td>3.200000e+01</td>\n",
       "      <td>1.000000</td>\n",
       "    </tr>\n",
       "    <tr>\n",
       "      <th>50%</th>\n",
       "      <td>53305.000000</td>\n",
       "      <td>5.496966e+06</td>\n",
       "      <td>11.000000</td>\n",
       "      <td>2023.000000</td>\n",
       "      <td>68.310000</td>\n",
       "      <td>49.890000</td>\n",
       "      <td>3.240000</td>\n",
       "      <td>6.800000e+01</td>\n",
       "      <td>3.000000</td>\n",
       "    </tr>\n",
       "    <tr>\n",
       "      <th>75%</th>\n",
       "      <td>78498.000000</td>\n",
       "      <td>7.733869e+06</td>\n",
       "      <td>17.000000</td>\n",
       "      <td>2023.000000</td>\n",
       "      <td>173.160000</td>\n",
       "      <td>125.570000</td>\n",
       "      <td>6.890000</td>\n",
       "      <td>1.700000e+02</td>\n",
       "      <td>5.000000</td>\n",
       "    </tr>\n",
       "    <tr>\n",
       "      <th>max</th>\n",
       "      <td>99984.000000</td>\n",
       "      <td>9.998480e+06</td>\n",
       "      <td>52.000000</td>\n",
       "      <td>2023.000000</td>\n",
       "      <td>1396.230000</td>\n",
       "      <td>846.270000</td>\n",
       "      <td>46.430000</td>\n",
       "      <td>3.958244e+06</td>\n",
       "      <td>9.000000</td>\n",
       "    </tr>\n",
       "  </tbody>\n",
       "</table>\n",
       "</div>"
      ],
      "text/plain": [
       "          client_id      order_id    order_week    order_year    unit_price  \\\n",
       "count  54639.000000  5.463900e+04  54639.000000  54639.000000  54639.000000   \n",
       "mean   54837.869416  5.470190e+06     11.359139   2022.993064    136.267207   \n",
       "std    25487.438231  2.599807e+06      7.023499      0.082997    183.873135   \n",
       "min    10033.000000  1.000886e+06      1.000000   2022.000000      0.010000   \n",
       "25%    33593.000000  3.196372e+06      6.000000   2023.000000     20.800000   \n",
       "50%    53305.000000  5.496966e+06     11.000000   2023.000000     68.310000   \n",
       "75%    78498.000000  7.733869e+06     17.000000   2023.000000    173.160000   \n",
       "max    99984.000000  9.998480e+06     52.000000   2023.000000   1396.230000   \n",
       "\n",
       "          unit_cost   unit_weight           qty   line_number  \n",
       "count  54639.000000  54639.000000  5.463900e+04  54639.000000  \n",
       "mean      99.446073      5.004116  5.702646e+02      2.979667  \n",
       "std      133.164267      5.326599  1.879552e+04      2.436320  \n",
       "min        0.010000      0.000000  0.000000e+00      0.000000  \n",
       "25%       14.840000      1.450000  3.200000e+01      1.000000  \n",
       "50%       49.890000      3.240000  6.800000e+01      3.000000  \n",
       "75%      125.570000      6.890000  1.700000e+02      5.000000  \n",
       "max      846.270000     46.430000  3.958244e+06      9.000000  "
      ]
     },
     "execution_count": 16,
     "metadata": {},
     "output_type": "execute_result"
    }
   ],
   "source": [
    "# Use the describe function to gather some basic statistics\n",
    "\n",
    "# print(df.describe())\n",
    "df.describe()\n",
    "\n"
   ]
  },
  {
   "cell_type": "code",
   "execution_count": 17,
   "id": "fae4303c",
   "metadata": {},
   "outputs": [
    {
     "data": {
      "text/plain": [
       "array([58515, 37609, 57113, 46554, 92089, 33615, 87213, 46709, 73362,\n",
       "       58789, 81012, 74112, 18145, 48855, 67407, 26185, 17355, 28523,\n",
       "       77184, 61603, 51869, 85413, 74159, 33804, 54932, 87125, 10643,\n",
       "       10351, 10559, 31733, 95847, 97623, 68703, 28927, 48015, 90654,\n",
       "       67516, 75118, 32185, 96736, 89499, 79827, 45569, 61647, 53409,\n",
       "       17002, 18349, 25936, 37715, 41908, 25397, 59472, 77583, 34507,\n",
       "       17697, 33956, 56645, 42481, 28011, 21654, 43361, 73729, 32597,\n",
       "       34878, 24053, 48148, 27983, 55398, 40622, 41766, 40677, 92169,\n",
       "       74058, 79361, 31268, 34313, 95108, 34706, 70043, 12286, 76087,\n",
       "       99043, 28331, 47644, 13436, 31165, 79451, 22890, 14180, 32098,\n",
       "       71958, 56590, 84527, 38220, 19206, 91091, 14312, 75546, 57762,\n",
       "       10520, 86810, 31715, 65049, 87506, 22670, 49058, 82075, 37608,\n",
       "       96954, 53348, 40490, 97794, 22008, 77340, 47507, 86045, 99231,\n",
       "       49037, 19820, 61465, 48193, 32620, 14935, 16444, 37542, 46820,\n",
       "       16500, 65084, 94475, 29992, 34211, 17699, 13010, 61058, 94786,\n",
       "       24729, 99984, 42298, 58173, 26120, 57920, 87612, 50281, 52841,\n",
       "       11890, 16290, 54094, 12338, 87818, 26601, 11444, 49027, 91172,\n",
       "       64455, 49300, 89081, 38158, 42550, 17720, 99736, 31229, 22859,\n",
       "       23041, 36393, 94213, 61935, 37212, 99354, 97876, 70745, 82314,\n",
       "       64649, 19467, 29940, 60527, 62566, 89324, 35176, 98291, 73265,\n",
       "       44699, 81699, 67252, 78786, 61797, 43607, 23919, 59268, 46191,\n",
       "       79683, 87226, 66037, 87722, 19405, 24889, 79817, 68370, 27617,\n",
       "       97017, 40457, 94174, 38012, 41069, 57574, 38473, 95565, 27387,\n",
       "       49851, 48611, 24485, 18074, 55690, 43968, 48877, 94752, 84446,\n",
       "       69671, 33921, 44969, 58799, 22122, 81719, 36139, 29718, 94774,\n",
       "       25374, 41491, 62992, 88237, 25185, 84156, 57295, 82172, 29026,\n",
       "       35348, 54196, 86562, 84432, 49404, 23939, 93818, 48410, 18550,\n",
       "       42792, 79755, 94742, 44881, 42460, 80508, 30367, 78536, 51173,\n",
       "       30369, 44478, 71992, 10033, 61211, 52379, 38192, 49687, 25942,\n",
       "       89110, 56977, 86106, 56523, 34998, 13444, 78965, 25037, 90851,\n",
       "       69528, 66648, 62559, 26564, 87473, 19904, 79504, 95003, 83448,\n",
       "       80875, 73797, 10218, 96899, 22109, 65419, 66888, 98302, 99400,\n",
       "       32500, 74559, 80857, 60730, 85977, 38932, 34713, 15554, 83211,\n",
       "       13092, 30026, 62639, 54740, 16279, 73876, 32539, 30489, 54350,\n",
       "       89505, 17254, 12028, 24741, 92173, 47614, 19062, 23906, 32145,\n",
       "       36284, 31668, 30509, 79453, 92201, 28464, 57175, 40264, 34323,\n",
       "       54340, 31279, 29245, 16982, 76177, 55191, 67328, 81576, 55846,\n",
       "       96517, 39965, 66615, 27516, 81150, 23548, 74106, 24007, 38378,\n",
       "       32549, 64477, 57283, 18574, 98825, 21134, 10753, 35902, 72963,\n",
       "       85720, 67182, 79713, 92057, 26396, 78618, 85152, 34426, 90747,\n",
       "       35208, 50173, 10435, 93693, 48342, 30272, 39173, 32240, 24750,\n",
       "       21474, 55336, 21633, 69260, 73677, 33220, 94136, 98412, 37214,\n",
       "       73297, 96848, 41561, 34514, 70029, 64260, 25639, 47496, 30143,\n",
       "       24502, 28036, 85931, 60955, 52885, 52678, 80384, 77281, 22101,\n",
       "       39613, 90466, 67860, 46804, 75907, 94675, 88149, 71447, 64563,\n",
       "       83686, 64680, 78860, 73175, 38167, 97124, 85298, 91328, 86040,\n",
       "       52356, 54596, 38305, 41696, 75770, 86936, 71560, 28386, 81778,\n",
       "       22952, 51210, 12285, 67005, 52580, 73156, 50333, 78248, 81490,\n",
       "       65819, 77306, 50605, 86721, 19800, 53993, 55696, 95656, 61382,\n",
       "       38212, 57496, 44742, 47930, 35794, 27079, 80891, 15318, 99060,\n",
       "       57669, 38760, 59566, 25535, 58133, 13482, 48554, 63691, 30693,\n",
       "       20333, 18454, 73467, 27372, 67739, 71981, 94438, 14881, 82386,\n",
       "       61164, 44673, 16974, 15647, 69074, 65687, 84710, 99394, 73450,\n",
       "       33475, 31885, 37432, 36703, 56274, 15825, 79518, 53809, 33529,\n",
       "       72247, 20793, 27302, 92331, 49457, 13021, 93794, 67852, 39141,\n",
       "       76418, 36557, 62380, 19326, 45456, 78733, 18092, 34873, 78447,\n",
       "       43867, 86938, 79507, 52023, 25114, 70995, 38992, 61027, 80977,\n",
       "       69633, 18514, 58277, 28598, 17646, 16084, 11436, 84006, 48607,\n",
       "       98410, 66345, 92721, 36023, 34811, 44849, 15845, 33367, 58400,\n",
       "       43090, 61560, 57148, 75947, 22051, 53305, 37937, 56435, 48540,\n",
       "       32156, 89557, 47078, 69499, 73652, 84429, 30827, 28080, 61449,\n",
       "       64902, 66328, 80474, 70775, 44807, 19030, 91973, 47197, 87975,\n",
       "       29621, 65030, 72892, 50162, 92936, 18975, 47752, 23640, 46354,\n",
       "       50002, 82891, 81533, 73125, 31923, 57765, 29043, 46973, 65748,\n",
       "       61084, 73569, 81805, 83803, 83238, 31897, 54471, 85369, 79966,\n",
       "       50317, 54400, 96713, 34271, 39280, 50202, 51839, 78302, 56935,\n",
       "       43576, 23557, 90830, 42471, 22262, 16624, 50377, 61482, 20875,\n",
       "       35900, 36017, 66368, 16788, 22772, 50111, 54518, 83981, 48149,\n",
       "       40214, 85093, 30339, 71188, 15901, 62116, 62227, 61197, 40835,\n",
       "       88939, 86487, 38626, 90079, 93886, 39939, 32210, 51367, 53508,\n",
       "       52709, 11787, 84535, 56343, 69800, 99390, 92552, 87985, 72750,\n",
       "       84720, 59610, 89502, 52670, 35467, 44148, 41738, 84354, 50088,\n",
       "       75662, 65569, 30994, 69327, 44304, 99213, 21314, 68577, 84344,\n",
       "       49743, 20885, 16710, 40749, 69437, 81534, 47962, 80975, 97987,\n",
       "       75351, 61161, 93798, 31680, 44715, 86393, 34847, 57134, 21317,\n",
       "       41209, 89159, 28671, 68874, 51826, 11015, 14557, 51629, 67692,\n",
       "       90703, 24236, 83290, 94238, 92744, 84878, 62135, 62134, 22833,\n",
       "       28782, 88930, 52037, 54893, 13616, 82336, 65434, 31753, 49009,\n",
       "       84576, 32698, 11675, 56021, 41656, 97501, 74643, 61110, 46911,\n",
       "       18811, 35929, 31558, 20820, 66243, 79313, 38974, 53622, 67877,\n",
       "       63780, 35763, 39516, 20291, 88009, 93900, 43980, 25119, 71054,\n",
       "       37580, 86906, 24926, 63354, 49758, 90641, 98974, 86113, 90934,\n",
       "       46363, 94420, 37231, 12269, 53578, 68227, 37784, 90482, 70781,\n",
       "       74673, 46571, 48723, 97026, 76520, 55217, 31836, 15536, 55552,\n",
       "       18741, 76697, 33151, 29579, 82931, 44157, 97522, 19872, 75225,\n",
       "       46897, 87154, 32783, 81842, 13258, 91419, 24760, 91480, 82280,\n",
       "       77354, 30246, 35619, 59765, 76797, 18390, 61559, 11432, 70939,\n",
       "       61124, 64213, 71420, 91149, 88326, 34575, 59965, 32730, 61136,\n",
       "       39382, 88257, 74236, 71289, 54172, 75217, 47061, 51158, 76049,\n",
       "       61844, 82402, 83126, 99973, 55914, 20849, 22759, 79804, 85139,\n",
       "       33593, 71449, 77875, 76714, 72694, 11984, 72202, 59711, 55605,\n",
       "       54940, 18452, 62732, 77449, 44784, 10944, 98475, 81024, 97532,\n",
       "       91441, 63806, 95119, 65338, 69701, 83089, 87556, 65486, 68332,\n",
       "       93076, 29238, 98014, 10910, 15805, 54907, 41342, 99128, 41965,\n",
       "       18789, 36531, 95944, 67908, 47153, 99450, 79329, 56168, 46547,\n",
       "       89041, 88685, 98561, 29025, 27771, 10846, 73110, 19484, 32227,\n",
       "       28231, 64616, 70744, 95649, 77692, 48013, 29566, 64194, 57434,\n",
       "       83552, 95469, 30306, 11869, 90604, 27458, 29906, 44795, 73153,\n",
       "       35531, 89503, 49481, 16568, 28525, 92111, 40610, 45280, 39113,\n",
       "       51008, 99302, 78465, 70784, 40938, 97577, 45631, 77587, 80229,\n",
       "       93423, 56941, 65681, 34259, 78498, 77592, 44498, 35483, 71600,\n",
       "       16892, 43570, 57181, 32232, 16675, 16792, 30564, 87132, 71919,\n",
       "       83646, 87791, 62315, 21522, 45395, 53864, 16195, 42270, 46661,\n",
       "       73169, 77531, 86899, 10091, 32595, 85964, 95671, 91124, 40562,\n",
       "       89869, 27692, 19918, 81907, 51200, 13801, 81912, 91729, 54011,\n",
       "       32117, 51561, 73798, 89957, 70461, 49451, 37296, 16130, 31289,\n",
       "       35930, 12789, 48106, 61350, 18800, 27114, 57776, 88840, 91809,\n",
       "       64586, 94401, 53953, 84699, 88852, 19093, 16021, 68877, 64090,\n",
       "       50685, 32026, 68464, 52996, 17425, 19222, 80989, 94987, 58304,\n",
       "       29772, 29323, 56250, 68532, 57681, 26707, 32001, 74098, 77673,\n",
       "       70734, 12907, 97596, 40754, 82254, 78434, 93184, 36662, 76017],\n",
       "      dtype=int64)"
      ]
     },
     "execution_count": 17,
     "metadata": {},
     "output_type": "execute_result"
    }
   ],
   "source": [
    "# Use this space to do any additional research\n",
    "# and familiarize yourself with the data.\n",
    "# df.dtypes\n",
    "# df.index\n",
    "# df.max\n",
    "# df.count() \n",
    "# df['client_id'].value_counts().head(10)\n",
    "df['client_id'].unique()\n",
    "# df['client_id'].nunique()\n",
    "# df['client_id'].value_counts().head(10)\n"
   ]
  },
  {
   "cell_type": "code",
   "execution_count": 18,
   "id": "3716aea4",
   "metadata": {},
   "outputs": [
    {
     "name": "stdout",
     "output_type": "stream",
     "text": [
      "qty:\n",
      "The count is 54639\n",
      "The minimum is 0\n",
      "The maximum is 3958244\n",
      "The mean is 570.2646095279928\n"
     ]
    }
   ],
   "source": [
    "print(\"qty:\")\n",
    "print(f\"The count is {df['qty'].count()}\")\n",
    "print(f\"The minimum is {df['qty'].min()}\")\n",
    "print(f\"The maximum is {df['qty'].max()}\")\n",
    "print(f\"The mean is {df['qty'].mean()}\")"
   ]
  },
  {
   "cell_type": "code",
   "execution_count": 19,
   "id": "d31a47d3",
   "metadata": {},
   "outputs": [
    {
     "name": "stdout",
     "output_type": "stream",
     "text": [
      "category\n",
      "consumables    23538\n",
      "furniture      11915\n",
      "software        8400\n",
      "decor           7954\n",
      "electronics     2832\n",
      "Name: count, dtype: int64\n"
     ]
    }
   ],
   "source": [
    "\n",
    "# print(df['client_id'])\n",
    "# print(len(df['client_id']))\n",
    "# print(df[\"category\"].unique())\n",
    "# print(df[\"category\"].nunique())\n",
    "print(df[\"category\"].value_counts())"
   ]
  },
  {
   "cell_type": "code",
   "execution_count": 20,
   "id": "551cb358",
   "metadata": {},
   "outputs": [
    {
     "data": {
      "text/plain": [
       "category\n",
       "consumables    23538\n",
       "furniture      11915\n",
       "software        8400\n",
       "dtype: int64"
      ]
     },
     "execution_count": 20,
     "metadata": {},
     "output_type": "execute_result"
    }
   ],
   "source": [
    "# What three item categories had the most entries?\n",
    "df.sort_values(by='category', ascending=False)\n",
    "df.groupby('category').sum()\n",
    "df.groupby('category').size().sort_values(ascending=False).head(3)\n"
   ]
  },
  {
   "cell_type": "code",
   "execution_count": 21,
   "id": "5f54e2cf",
   "metadata": {},
   "outputs": [
    {
     "data": {
      "text/plain": [
       "subcategory\n",
       "bathroom supplies    6424\n",
       "dtype: int64"
      ]
     },
     "execution_count": 21,
     "metadata": {},
     "output_type": "execute_result"
    }
   ],
   "source": [
    "# For the category with the most entries,\n",
    "# which subcategory had the most entries?\n",
    "\n",
    "df.sort_values(by='category', ascending=False)\n",
    "df.groupby('category').sum()\n",
    "df.groupby('category').size().sort_values(ascending=False).head(3)\n",
    "df.groupby('subcategory').size().sort_values(ascending=False).head(1)\n"
   ]
  },
  {
   "cell_type": "code",
   "execution_count": 22,
   "id": "2db94379",
   "metadata": {},
   "outputs": [
    {
     "data": {
      "text/plain": [
       "client_id\n",
       "33615    220\n",
       "66037    211\n",
       "46820    209\n",
       "38378    207\n",
       "24741    207\n",
       "dtype: int64"
      ]
     },
     "execution_count": 22,
     "metadata": {},
     "output_type": "execute_result"
    }
   ],
   "source": [
    "# Which five clients had the most entries in the data?\n",
    "df.sort_values(by='client_id', ascending=False)\n",
    "df.groupby('client_id').sum()\n",
    "df.groupby('client_id').size().sort_values(ascending=False).head(5)\n"
   ]
  },
  {
   "cell_type": "code",
   "execution_count": 23,
   "id": "a6635601",
   "metadata": {},
   "outputs": [
    {
     "name": "stdout",
     "output_type": "stream",
     "text": [
      "[33615, 66037, 46820, 38378, 24741]\n"
     ]
    }
   ],
   "source": [
    "# Store the client ids of those top 5 clients in a list.\n",
    "Top5_clients = df.groupby('client_id').size().sort_values(ascending=False).head(5).index.tolist()\n",
    "print(Top5_clients)\n",
    "\n"
   ]
  },
  {
   "cell_type": "code",
   "execution_count": 35,
   "id": "c88b8a3e",
   "metadata": {},
   "outputs": [
    {
     "data": {
      "text/plain": [
       "64313"
      ]
     },
     "execution_count": 35,
     "metadata": {},
     "output_type": "execute_result"
    }
   ],
   "source": [
    "# How many total units (the qty column) did the\n",
    "# client with the most entries order order?\n",
    "# total_units = df.groupby('client_id')['qty'].sum().sort_values(ascending=False)\n",
    "# print(total_units.head(1))\n",
    "\n",
    "df.loc[df['client_id'] == 33615, 'qty'].sum()    \n",
    "\n"
   ]
  },
  {
   "cell_type": "markdown",
   "id": "257fcd7d",
   "metadata": {},
   "source": [
    "## Part 2: Transform the Data\n",
    "Do we know that this client spent the more money than client 66037? If not, how would we find out? Transform the data using the steps below to prepare it for analysis."
   ]
  },
  {
   "cell_type": "code",
   "execution_count": 25,
   "id": "0c25c4a8",
   "metadata": {},
   "outputs": [
    {
     "name": "stdout",
     "output_type": "stream",
     "text": [
      "       first      last                    job               phone  \\\n",
      "0     Donald   Harding           Immunologist  793-904-7725x39308   \n",
      "1    Tiffany     Myers        Music therapist    201.442.4543x942   \n",
      "2    Shannon    Watson           Immunologist   687.737.9424x8503   \n",
      "3     Nathan     Baker  Accounting technician    827-788-8123x012   \n",
      "4  Christina  Schwartz           Chiropractor        265-829-3643   \n",
      "\n",
      "                                 email  client_id  order_id  order_date  \\\n",
      "0     harding.donald.7185@sullivan.com      58515   8953482  2023-04-28   \n",
      "1    myers.t.6537@ferguson-johnson.net      37609   8069089  2023-05-19   \n",
      "2                swatson8146@payne.net      57113   1902144  2023-01-29   \n",
      "3               bakernathan@benson.com      46554   9031802  2023-04-25   \n",
      "4  christinaschwartz9252@mcconnell.com      92089   1322274  2023-05-28   \n",
      "\n",
      "   order_week  order_year         item_id     category         subcategory  \\\n",
      "0          17        2023  EUD29711-63-6U        decor            wall art   \n",
      "1          20        2023  XDA18116-89-4A  consumables                pens   \n",
      "2           4        2023  ABE59463-05-7E     software  project management   \n",
      "3          17        2023  ZMM00836-65-0C  consumables                pens   \n",
      "4          21        2023  BZX55559-12-3X  consumables                misc   \n",
      "\n",
      "   unit_price  unit_cost  unit_weight  qty  line_number   subtotal  \n",
      "0     1096.80     762.71         7.50  105            1  115164.00  \n",
      "1       24.95      15.09         1.49   21            0     523.95  \n",
      "2       13.52       7.86         1.68   39            6     527.28  \n",
      "3       36.42      24.85         1.23   29            3    1056.18  \n",
      "4      195.10     108.17        46.43   20            1    3902.00  \n"
     ]
    }
   ],
   "source": [
    "# Create a column that calculates the \n",
    "# subtotal for each line using the unit_price\n",
    "# and the qty\n",
    "\n",
    "df['subtotal'] = df['unit_price'] * df['qty']\n",
    "# print(df['subtotal'])\n",
    "print(df.head())\n",
    "\n"
   ]
  },
  {
   "cell_type": "code",
   "execution_count": 49,
   "id": "ac9dafc8",
   "metadata": {},
   "outputs": [
    {
     "name": "stdout",
     "output_type": "stream",
     "text": [
      "       first      last                    job               phone  \\\n",
      "0     Donald   Harding           Immunologist  793-904-7725x39308   \n",
      "1    Tiffany     Myers        Music therapist    201.442.4543x942   \n",
      "2    Shannon    Watson           Immunologist   687.737.9424x8503   \n",
      "3     Nathan     Baker  Accounting technician    827-788-8123x012   \n",
      "4  Christina  Schwartz           Chiropractor        265-829-3643   \n",
      "\n",
      "                                 email  client_id  order_id  order_date  \\\n",
      "0     harding.donald.7185@sullivan.com      58515   8953482  2023-04-28   \n",
      "1    myers.t.6537@ferguson-johnson.net      37609   8069089  2023-05-19   \n",
      "2                swatson8146@payne.net      57113   1902144  2023-01-29   \n",
      "3               bakernathan@benson.com      46554   9031802  2023-04-25   \n",
      "4  christinaschwartz9252@mcconnell.com      92089   1322274  2023-05-28   \n",
      "\n",
      "   order_week  order_year  ...     category         subcategory unit_price  \\\n",
      "0          17        2023  ...        decor            wall art    1096.80   \n",
      "1          20        2023  ...  consumables                pens      24.95   \n",
      "2           4        2023  ...     software  project management      13.52   \n",
      "3          17        2023  ...  consumables                pens      36.42   \n",
      "4          21        2023  ...  consumables                misc     195.10   \n",
      "\n",
      "   unit_cost  unit_weight  qty  line_number   subtotal  weight  shipping_price  \n",
      "0     762.71         7.50  105            1  115164.00  787.50         5512.50  \n",
      "1      15.09         1.49   21            0     523.95   31.29          312.90  \n",
      "2       7.86         1.68   39            6     527.28   65.52          458.64  \n",
      "3      24.85         1.23   29            3    1056.18   35.67          356.70  \n",
      "4     108.17        46.43   20            1    3902.00  928.60         6500.20  \n",
      "\n",
      "[5 rows x 21 columns]\n"
     ]
    }
   ],
   "source": [
    "# Create a column for shipping price.\n",
    "# Assume a shipping price of $7 per pound\n",
    "# for orders over 50 pounds and $10 per\n",
    "# pound for items 50 pounds or under.\n",
    "# df['weight'] = df['qty'] * df['unit_weight']\n",
    "\n",
    "\n",
    "# df['shipping_price'] = \n",
    "#     if df[weight] > 50:\n",
    "#         return weight * 7\n",
    "#     else:\n",
    "#         return weight * 10\n",
    "# print(df.head())\n",
    "#create a dataframe\n",
    "\n",
    "# df = df.apply(shipping_price)    \n",
    "# print(df)\n",
    "# print(shipping_price(5))\n",
    "# print(df.head())\n",
    "\n",
    "# df['shipping_price'] = df['qty'] * df['unit_weight']*7 when over 50 pounds\n",
    "# df['shipping_price'] = df['qty'] * df['unit_weight']*10 when 50 pounds or under\n",
    "# print(df['shipping_price'])\n",
    "# import numpy as np\n",
    "# df['shipping_price'] = np.where(df['unit_weight'] > 50, \n",
    "#                                 df['qty'] * df['unit_weight'] * 7, \n",
    "#                                 df['qty'] * df['unit_weight'] * 10)\n",
    "# print(df)\n",
    "def calculate_shipping_price(weight):\n",
    "    if weight > 50:\n",
    "        return weight * 7\n",
    "    else:\n",
    "        return weight * 10\n",
    "\n",
    "df['shipping_price'] = df['weight'].apply(calculate_shipping_price)\n",
    "print(df.head())\n"
   ]
  },
  {
   "cell_type": "code",
   "execution_count": null,
   "id": "ba2f3d59",
   "metadata": {},
   "outputs": [],
   "source": []
  },
  {
   "cell_type": "code",
   "execution_count": 51,
   "id": "77f42c67",
   "metadata": {},
   "outputs": [
    {
     "name": "stdout",
     "output_type": "stream",
     "text": [
      "       first      last                    job               phone  \\\n",
      "0     Donald   Harding           Immunologist  793-904-7725x39308   \n",
      "1    Tiffany     Myers        Music therapist    201.442.4543x942   \n",
      "2    Shannon    Watson           Immunologist   687.737.9424x8503   \n",
      "3     Nathan     Baker  Accounting technician    827-788-8123x012   \n",
      "4  Christina  Schwartz           Chiropractor        265-829-3643   \n",
      "\n",
      "                                 email  client_id  order_id  order_date  \\\n",
      "0     harding.donald.7185@sullivan.com      58515   8953482  2023-04-28   \n",
      "1    myers.t.6537@ferguson-johnson.net      37609   8069089  2023-05-19   \n",
      "2                swatson8146@payne.net      57113   1902144  2023-01-29   \n",
      "3               bakernathan@benson.com      46554   9031802  2023-04-25   \n",
      "4  christinaschwartz9252@mcconnell.com      92089   1322274  2023-05-28   \n",
      "\n",
      "   order_week  order_year  ...         subcategory unit_price unit_cost  \\\n",
      "0          17        2023  ...            wall art    1096.80    762.71   \n",
      "1          20        2023  ...                pens      24.95     15.09   \n",
      "2           4        2023  ...  project management      13.52      7.86   \n",
      "3          17        2023  ...                pens      36.42     24.85   \n",
      "4          21        2023  ...                misc     195.10    108.17   \n",
      "\n",
      "   unit_weight  qty  line_number   subtotal  weight  shipping_price  \\\n",
      "0         7.50  105            1  115164.00  787.50         5512.50   \n",
      "1         1.49   21            0     523.95   31.29          312.90   \n",
      "2         1.68   39            6     527.28   65.52          458.64   \n",
      "3         1.23   29            3    1056.18   35.67          356.70   \n",
      "4        46.43   20            1    3902.00  928.60         6500.20   \n",
      "\n",
      "     total_price  \n",
      "0  131839.076250  \n",
      "1     914.258625  \n",
      "2    1077.117600  \n",
      "3    1543.571400  \n",
      "4   11364.403500  \n",
      "\n",
      "[5 rows x 22 columns]\n"
     ]
    }
   ],
   "source": [
    "# Create a column for the total price\n",
    "# using the subtotal and the shipping price\n",
    "# along with a sales tax of 9.25%\n",
    "\n",
    "df['total_price'] = (df['subtotal'] + df['shipping_price'])*1.0925    \n",
    "print(df.head())     \n",
    "\n",
    "# df['total_price'] = (df['subtotal'] + df['shipping_price'])*1.0925\n",
    "# df['total_price'] = (df['subtotal'] + ('shipping_price'))*1.0925\n",
    "# print(df['total_price'],['total_price_no_tax'])\n",
    "\n"
   ]
  },
  {
   "cell_type": "code",
   "execution_count": 53,
   "id": "c82ad275",
   "metadata": {},
   "outputs": [
    {
     "name": "stdout",
     "output_type": "stream",
     "text": [
      "0        85597.05\n",
      "1          629.79\n",
      "2          765.18\n",
      "3         1077.35\n",
      "4         8663.60\n",
      "           ...   \n",
      "54634     2222.55\n",
      "54635    12095.92\n",
      "54636    41054.25\n",
      "54637    14280.00\n",
      "54638    16599.10\n",
      "Name: total_cost, Length: 54639, dtype: float64\n",
      "       first      last                    job               phone  \\\n",
      "0     Donald   Harding           Immunologist  793-904-7725x39308   \n",
      "1    Tiffany     Myers        Music therapist    201.442.4543x942   \n",
      "2    Shannon    Watson           Immunologist   687.737.9424x8503   \n",
      "3     Nathan     Baker  Accounting technician    827-788-8123x012   \n",
      "4  Christina  Schwartz           Chiropractor        265-829-3643   \n",
      "\n",
      "                                 email  client_id  order_id  order_date  \\\n",
      "0     harding.donald.7185@sullivan.com      58515   8953482  2023-04-28   \n",
      "1    myers.t.6537@ferguson-johnson.net      37609   8069089  2023-05-19   \n",
      "2                swatson8146@payne.net      57113   1902144  2023-01-29   \n",
      "3               bakernathan@benson.com      46554   9031802  2023-04-25   \n",
      "4  christinaschwartz9252@mcconnell.com      92089   1322274  2023-05-28   \n",
      "\n",
      "   order_week  order_year  ... unit_price unit_cost unit_weight  qty  \\\n",
      "0          17        2023  ...    1096.80    762.71        7.50  105   \n",
      "1          20        2023  ...      24.95     15.09        1.49   21   \n",
      "2           4        2023  ...      13.52      7.86        1.68   39   \n",
      "3          17        2023  ...      36.42     24.85        1.23   29   \n",
      "4          21        2023  ...     195.10    108.17       46.43   20   \n",
      "\n",
      "   line_number   subtotal  weight  shipping_price    total_price  total_cost  \n",
      "0            1  115164.00  787.50         5512.50  131839.076250    85597.05  \n",
      "1            0     523.95   31.29          312.90     914.258625      629.79  \n",
      "2            6     527.28   65.52          458.64    1077.117600      765.18  \n",
      "3            3    1056.18   35.67          356.70    1543.571400     1077.35  \n",
      "4            1    3902.00  928.60         6500.20   11364.403500     8663.60  \n",
      "\n",
      "[5 rows x 23 columns]\n"
     ]
    }
   ],
   "source": [
    "# Create a column for the cost\n",
    "# of each line using unit cost, qty, and\n",
    "# shipping price (assume the shipping cost\n",
    "# is exactly what is charged to the client).\n",
    "df['total_cost'] = ((df['unit_cost'] * df['qty'])+df['shipping_price'])\n",
    "print(df['total_cost'])\n",
    "print(df.head())    \n"
   ]
  },
  {
   "cell_type": "code",
   "execution_count": 54,
   "id": "e2389018",
   "metadata": {},
   "outputs": [
    {
     "name": "stdout",
     "output_type": "stream",
     "text": [
      "0        46242.026250\n",
      "1          284.468625\n",
      "2          311.937600\n",
      "3          466.221400\n",
      "4         2700.803500\n",
      "             ...     \n",
      "54634     1342.321200\n",
      "54635     2717.320275\n",
      "54636     8130.646250\n",
      "54637     1352.713600\n",
      "54638     3112.331250\n",
      "Name: profit, Length: 54639, dtype: float64\n",
      "       first      last                    job               phone  \\\n",
      "0     Donald   Harding           Immunologist  793-904-7725x39308   \n",
      "1    Tiffany     Myers        Music therapist    201.442.4543x942   \n",
      "2    Shannon    Watson           Immunologist   687.737.9424x8503   \n",
      "3     Nathan     Baker  Accounting technician    827-788-8123x012   \n",
      "4  Christina  Schwartz           Chiropractor        265-829-3643   \n",
      "\n",
      "                                 email  client_id  order_id  order_date  \\\n",
      "0     harding.donald.7185@sullivan.com      58515   8953482  2023-04-28   \n",
      "1    myers.t.6537@ferguson-johnson.net      37609   8069089  2023-05-19   \n",
      "2                swatson8146@payne.net      57113   1902144  2023-01-29   \n",
      "3               bakernathan@benson.com      46554   9031802  2023-04-25   \n",
      "4  christinaschwartz9252@mcconnell.com      92089   1322274  2023-05-28   \n",
      "\n",
      "   order_week  order_year  ... unit_cost unit_weight  qty  line_number  \\\n",
      "0          17        2023  ...    762.71        7.50  105            1   \n",
      "1          20        2023  ...     15.09        1.49   21            0   \n",
      "2           4        2023  ...      7.86        1.68   39            6   \n",
      "3          17        2023  ...     24.85        1.23   29            3   \n",
      "4          21        2023  ...    108.17       46.43   20            1   \n",
      "\n",
      "    subtotal  weight  shipping_price    total_price  total_cost        profit  \n",
      "0  115164.00  787.50         5512.50  131839.076250    85597.05  46242.026250  \n",
      "1     523.95   31.29          312.90     914.258625      629.79    284.468625  \n",
      "2     527.28   65.52          458.64    1077.117600      765.18    311.937600  \n",
      "3    1056.18   35.67          356.70    1543.571400     1077.35    466.221400  \n",
      "4    3902.00  928.60         6500.20   11364.403500     8663.60   2700.803500  \n",
      "\n",
      "[5 rows x 24 columns]\n"
     ]
    }
   ],
   "source": [
    "# Create a column for the profit of\n",
    "# each line using line cost and line price\n",
    "df['profit'] = df['total_price'] - df['total_cost'] \n",
    "print(df['profit']) \n",
    "print(df.head())    \n",
    "\n",
    "\n"
   ]
  },
  {
   "cell_type": "markdown",
   "id": "ef6f62b1",
   "metadata": {},
   "source": [
    "## Part 3: Confirm your work\n",
    "You have email receipts showing that the total prices for 3 orders. Confirm that your calculations match the receipts. Remember, each order has multiple lines.\n",
    "\n",
    "Order ID 2742071 had a total price of \\$152,811.89\n",
    "\n",
    "Order ID 2173913  had a total price of \\$162,388.71\n",
    "\n",
    "Order ID 6128929 had a total price of \\$923,441.25\n"
   ]
  },
  {
   "cell_type": "code",
   "execution_count": 59,
   "id": "c0e5d68e",
   "metadata": {},
   "outputs": [
    {
     "name": "stdout",
     "output_type": "stream",
     "text": [
      "152811.897075\n"
     ]
    }
   ],
   "source": [
    "# Check your work using the totals above\n",
    "# Determine total price + shopping price, sum and display for order id 2742071\n",
    "# df['total_Price_nt'] = ((df['unit_price'] * df['qty'])+df['shipping_price'])\n",
    "# order_total = df.loc[df['order_id'] == 6128929, 'total_price'].sum() + df.loc[df['order_id'] == 6128929, 'shipping_price'].sum()\n",
    "# Determine total price + shiping + tax for order id 2742071\n",
    "order_total = df.loc[df['order_id'] == 2742071, 'total_price'].sum()\n",
    "print(order_total)\n",
    "\n",
    "\n",
    "\n",
    "\n",
    "\n"
   ]
  },
  {
   "cell_type": "code",
   "execution_count": 60,
   "id": "9e31ca48",
   "metadata": {},
   "outputs": [
    {
     "name": "stdout",
     "output_type": "stream",
     "text": [
      "162388.7193\n"
     ]
    }
   ],
   "source": [
    "# Determine total price + shiping + tax for order id 2173913\n",
    "order_total = df.loc[df['order_id'] == 2173913, 'total_price'].sum()\n",
    "print(order_total)"
   ]
  },
  {
   "cell_type": "code",
   "execution_count": 61,
   "id": "94181621",
   "metadata": {},
   "outputs": [
    {
     "name": "stdout",
     "output_type": "stream",
     "text": [
      "923441.24045\n"
     ]
    }
   ],
   "source": [
    "# Determine total price + shiping + tax for order id 6128929\n",
    "order_total = df.loc[df['order_id'] == 6128929, 'total_price'].sum()\n",
    "print(order_total)"
   ]
  },
  {
   "cell_type": "code",
   "execution_count": 62,
   "id": "ae8e3e9a",
   "metadata": {},
   "outputs": [
    {
     "name": "stdout",
     "output_type": "stream",
     "text": [
      "       first      last                    job               phone  \\\n",
      "0     Donald   Harding           Immunologist  793-904-7725x39308   \n",
      "1    Tiffany     Myers        Music therapist    201.442.4543x942   \n",
      "2    Shannon    Watson           Immunologist   687.737.9424x8503   \n",
      "3     Nathan     Baker  Accounting technician    827-788-8123x012   \n",
      "4  Christina  Schwartz           Chiropractor        265-829-3643   \n",
      "\n",
      "                                 email  client_id  order_id  order_date  \\\n",
      "0     harding.donald.7185@sullivan.com      58515   8953482  2023-04-28   \n",
      "1    myers.t.6537@ferguson-johnson.net      37609   8069089  2023-05-19   \n",
      "2                swatson8146@payne.net      57113   1902144  2023-01-29   \n",
      "3               bakernathan@benson.com      46554   9031802  2023-04-25   \n",
      "4  christinaschwartz9252@mcconnell.com      92089   1322274  2023-05-28   \n",
      "\n",
      "   order_week  order_year  ... unit_cost unit_weight  qty  line_number  \\\n",
      "0          17        2023  ...    762.71        7.50  105            1   \n",
      "1          20        2023  ...     15.09        1.49   21            0   \n",
      "2           4        2023  ...      7.86        1.68   39            6   \n",
      "3          17        2023  ...     24.85        1.23   29            3   \n",
      "4          21        2023  ...    108.17       46.43   20            1   \n",
      "\n",
      "    subtotal  weight  shipping_price    total_price  total_cost        profit  \n",
      "0  115164.00  787.50         5512.50  131839.076250    85597.05  46242.026250  \n",
      "1     523.95   31.29          312.90     914.258625      629.79    284.468625  \n",
      "2     527.28   65.52          458.64    1077.117600      765.18    311.937600  \n",
      "3    1056.18   35.67          356.70    1543.571400     1077.35    466.221400  \n",
      "4    3902.00  928.60         6500.20   11364.403500     8663.60   2700.803500  \n",
      "\n",
      "[5 rows x 24 columns]\n"
     ]
    }
   ],
   "source": [
    "print(df.head())    \n",
    "\n"
   ]
  },
  {
   "cell_type": "markdown",
   "id": "b94d58ab",
   "metadata": {},
   "source": [
    "## Part 4: Summarize and Analyze\n",
    "Use the new columns with confirmed values to find the following information."
   ]
  },
  {
   "cell_type": "code",
   "execution_count": 78,
   "id": "7c005f34",
   "metadata": {},
   "outputs": [
    {
     "name": "stdout",
     "output_type": "stream",
     "text": [
      "Client ID: 24741, Total Sales: 82,268,891.98\n",
      "Client ID: 38378, Total Sales: 12,906,550.88\n",
      "Client ID: 66037, Total Sales: 10,259,514.80\n",
      "Client ID: 46820, Total Sales: 9,743,794.32\n",
      "Client ID: 33615, Total Sales: 8,377,308.57\n"
     ]
    }
   ],
   "source": [
    "# How much did each of the top 5 clients by quantity\n",
    "# spend? Check your work from Part 1 for client ids.\n",
    "\n",
    "# df.groupby('client_id')['total_price'].sum().sort_values(ascending=False).head(5)\n",
    "# print(df.groupby('client_id')['total_price'].sum().sort_values(ascending=False).head(5))\n",
    "# df.loc[df['client_id'] in 33615, 'total_price'].sum()    \n",
    "# Top5_clients\n",
    "\n",
    "# values = Top5_clients\n",
    "# Top5_clients_sales = df.loc[df['client_id'].isin(Top5_clients)].groupby('client_id')['total_price'].sum()   \n",
    "# Top5_clients_sales.sort_values('Total Profit', ascending=False)\n",
    "# print(Top5_clients_sales)\n",
    "\n",
    "Top5_clients_sales = df.loc[df['client_id'].isin(Top5_clients)].groupby('client_id')['total_price'].sum()\n",
    "Top5_clients_sales = Top5_clients_sales.sort_values(ascending=False)\n",
    "for client_id, sales in Top5_clients_sales.items():\n",
    "    print(f\"Client ID: {client_id}, Total Sales: {sales:,.2f}\" )"
   ]
  },
  {
   "cell_type": "code",
   "execution_count": 94,
   "id": "81b6e4d2",
   "metadata": {},
   "outputs": [
    {
     "name": "stdout",
     "output_type": "stream",
     "text": [
      "                 profit     qty  shipping_price   total_price\n",
      "client_id                                                    \n",
      "24741      3.657999e+07  239862      5126448.37  8.226889e+07\n",
      "33615      2.201995e+06   64313      1828984.89  8.377309e+06\n",
      "38378      3.271830e+06   73667      3429455.40  1.290655e+07\n",
      "46820      2.736603e+06   75768      1601448.84  9.743794e+06\n",
      "66037      3.255032e+06   43018      1395151.85  1.025951e+07\n"
     ]
    }
   ],
   "source": [
    "# Create a summary DataFrame showing the totals for the\n",
    "# for the top 5 clients with the following information:\n",
    "# total units purchased, total shipping price,\n",
    "# total revenue, and total profit. Sort by total profit.\n",
    "\n",
    "# data_dict = {'client_id': Top5_clients}\n",
    "# columns = ['qty', 'shipping_price', 'total_price', 'total_shipping_price', 't   otal_revenue', 'total_profit'] \n",
    "# for col in columns:\n",
    "#     data_dict[col] = [total\n",
    "# summary_df\n",
    "\n",
    "\n",
    "# Convert Top5_clients list into a DataFrame\n",
    "# Ensure 'qty' column exists in 'Top5_clients_df'\n",
    "# if 'qty' not in Top5_clients_df.columns:\n",
    "#     Top5_clients_df['qty'] = 0\n",
    "\n",
    "# # Create pivot table\n",
    "# summary_df = Top5_clients.pivot_table(\n",
    "#     index='client_id',\n",
    "#     values=['qty', 'shipping_price', 'total_price', 'total_profit'],\n",
    "#     aggfunc='sum'\n",
    "# )\n",
    "\n",
    "# # Sort by total profit\n",
    "# summary_df = summary_df.sort_values('total_profit', ascending=False)\n",
    "\n",
    "\n",
    "# Ryan gave hint pivot tables could be used here, utilized GPT to assist with troubelshooting the code\n",
    "# Define Top5_clients_df as a DataFrame\n",
    "Top5_clients_df = df[df['client_id'].isin(Top5_clients)]\n",
    "\n",
    "# Add 'qty' column if it doesn't exist\n",
    "if 'qty' not in Top5_clients_df.columns:\n",
    "    Top5_clients_df['qty'] = 0\n",
    "\n",
    "# Create pivot table\n",
    "summary_df = Top5_clients_df.pivot_table(\n",
    "    index='client_id',\n",
    "    values=['qty', 'shipping_price', 'total_price', 'profit'],\n",
    "    aggfunc='sum'\n",
    ")\n",
    "\n",
    "print(summary_df)\n"
   ]
  },
  {
   "cell_type": "code",
   "execution_count": 103,
   "id": "7be02867",
   "metadata": {},
   "outputs": [
    {
     "name": "stdout",
     "output_type": "stream",
     "text": [
      "          profit    qty shipping_price total_price\n",
      "client_id                                         \n",
      "24741      $nanM  $nanM          $nanM       $nanM\n",
      "33615      $nanM  $nanM          $nanM       $nanM\n",
      "38378      $nanM  $nanM          $nanM       $nanM\n",
      "46820      $nanM  $nanM          $nanM       $nanM\n",
      "66037      $nanM  $nanM          $nanM       $nanM\n"
     ]
    },
    {
     "name": "stderr",
     "output_type": "stream",
     "text": [
      "C:\\Users\\KURTD\\AppData\\Local\\Temp\\ipykernel_26828\\2368864874.py:14: FutureWarning: DataFrame.applymap has been deprecated. Use DataFrame.map instead.\n",
      "  summary_df = summary_df.applymap(format_values)\n"
     ]
    },
    {
     "ename": "TypeError",
     "evalue": "unsupported operand type(s) for /: 'str' and 'int'",
     "output_type": "error",
     "traceback": [
      "\u001b[1;31m---------------------------------------------------------------------------\u001b[0m",
      "\u001b[1;31mTypeError\u001b[0m                                 Traceback (most recent call last)",
      "Cell \u001b[1;32mIn[103], line 17\u001b[0m\n\u001b[0;32m     14\u001b[0m summary_df \u001b[38;5;241m=\u001b[39m summary_df\u001b[38;5;241m.\u001b[39mapplymap(format_values)\n\u001b[0;32m     16\u001b[0m \u001b[38;5;28mprint\u001b[39m(summary_df)\n\u001b[1;32m---> 17\u001b[0m summary_df[\u001b[38;5;124m'\u001b[39m\u001b[38;5;124mTotal Sales\u001b[39m\u001b[38;5;124m'\u001b[39m] \u001b[38;5;241m=\u001b[39m \u001b[43msummary_df\u001b[49m\u001b[43m[\u001b[49m\u001b[38;5;124;43m'\u001b[39;49m\u001b[38;5;124;43mtotal_price\u001b[39;49m\u001b[38;5;124;43m'\u001b[39;49m\u001b[43m]\u001b[49m\u001b[38;5;241;43m.\u001b[39;49m\u001b[43mapply\u001b[49m\u001b[43m(\u001b[49m\u001b[43mformat_values\u001b[49m\u001b[43m)\u001b[49m\n\u001b[0;32m     18\u001b[0m summary_df[\u001b[38;5;124m'\u001b[39m\u001b[38;5;124mQuantity\u001b[39m\u001b[38;5;124m'\u001b[39m] \u001b[38;5;241m=\u001b[39m summary_df[\u001b[38;5;124m'\u001b[39m\u001b[38;5;124mQuantity\u001b[39m\u001b[38;5;124m'\u001b[39m]\u001b[38;5;241m.\u001b[39mapply(format_values)\n\u001b[0;32m     19\u001b[0m \u001b[38;5;28mprint\u001b[39m(summary_df)\n",
      "File \u001b[1;32mc:\\Users\\KURTD\\anaconda3\\envs\\dev\\lib\\site-packages\\pandas\\core\\series.py:4764\u001b[0m, in \u001b[0;36mSeries.apply\u001b[1;34m(self, func, convert_dtype, args, by_row, **kwargs)\u001b[0m\n\u001b[0;32m   4629\u001b[0m \u001b[38;5;28;01mdef\u001b[39;00m \u001b[38;5;21mapply\u001b[39m(\n\u001b[0;32m   4630\u001b[0m     \u001b[38;5;28mself\u001b[39m,\n\u001b[0;32m   4631\u001b[0m     func: AggFuncType,\n\u001b[1;32m   (...)\u001b[0m\n\u001b[0;32m   4636\u001b[0m     \u001b[38;5;241m*\u001b[39m\u001b[38;5;241m*\u001b[39mkwargs,\n\u001b[0;32m   4637\u001b[0m ) \u001b[38;5;241m-\u001b[39m\u001b[38;5;241m>\u001b[39m DataFrame \u001b[38;5;241m|\u001b[39m Series:\n\u001b[0;32m   4638\u001b[0m \u001b[38;5;250m    \u001b[39m\u001b[38;5;124;03m\"\"\"\u001b[39;00m\n\u001b[0;32m   4639\u001b[0m \u001b[38;5;124;03m    Invoke function on values of Series.\u001b[39;00m\n\u001b[0;32m   4640\u001b[0m \n\u001b[1;32m   (...)\u001b[0m\n\u001b[0;32m   4755\u001b[0m \u001b[38;5;124;03m    dtype: float64\u001b[39;00m\n\u001b[0;32m   4756\u001b[0m \u001b[38;5;124;03m    \"\"\"\u001b[39;00m\n\u001b[0;32m   4757\u001b[0m     \u001b[38;5;28;01mreturn\u001b[39;00m \u001b[43mSeriesApply\u001b[49m\u001b[43m(\u001b[49m\n\u001b[0;32m   4758\u001b[0m \u001b[43m        \u001b[49m\u001b[38;5;28;43mself\u001b[39;49m\u001b[43m,\u001b[49m\n\u001b[0;32m   4759\u001b[0m \u001b[43m        \u001b[49m\u001b[43mfunc\u001b[49m\u001b[43m,\u001b[49m\n\u001b[0;32m   4760\u001b[0m \u001b[43m        \u001b[49m\u001b[43mconvert_dtype\u001b[49m\u001b[38;5;241;43m=\u001b[39;49m\u001b[43mconvert_dtype\u001b[49m\u001b[43m,\u001b[49m\n\u001b[0;32m   4761\u001b[0m \u001b[43m        \u001b[49m\u001b[43mby_row\u001b[49m\u001b[38;5;241;43m=\u001b[39;49m\u001b[43mby_row\u001b[49m\u001b[43m,\u001b[49m\n\u001b[0;32m   4762\u001b[0m \u001b[43m        \u001b[49m\u001b[43margs\u001b[49m\u001b[38;5;241;43m=\u001b[39;49m\u001b[43margs\u001b[49m\u001b[43m,\u001b[49m\n\u001b[0;32m   4763\u001b[0m \u001b[43m        \u001b[49m\u001b[43mkwargs\u001b[49m\u001b[38;5;241;43m=\u001b[39;49m\u001b[43mkwargs\u001b[49m\u001b[43m,\u001b[49m\n\u001b[1;32m-> 4764\u001b[0m \u001b[43m    \u001b[49m\u001b[43m)\u001b[49m\u001b[38;5;241;43m.\u001b[39;49m\u001b[43mapply\u001b[49m\u001b[43m(\u001b[49m\u001b[43m)\u001b[49m\n",
      "File \u001b[1;32mc:\\Users\\KURTD\\anaconda3\\envs\\dev\\lib\\site-packages\\pandas\\core\\apply.py:1209\u001b[0m, in \u001b[0;36mSeriesApply.apply\u001b[1;34m(self)\u001b[0m\n\u001b[0;32m   1206\u001b[0m     \u001b[38;5;28;01mreturn\u001b[39;00m \u001b[38;5;28mself\u001b[39m\u001b[38;5;241m.\u001b[39mapply_compat()\n\u001b[0;32m   1208\u001b[0m \u001b[38;5;66;03m# self.func is Callable\u001b[39;00m\n\u001b[1;32m-> 1209\u001b[0m \u001b[38;5;28;01mreturn\u001b[39;00m \u001b[38;5;28;43mself\u001b[39;49m\u001b[38;5;241;43m.\u001b[39;49m\u001b[43mapply_standard\u001b[49m\u001b[43m(\u001b[49m\u001b[43m)\u001b[49m\n",
      "File \u001b[1;32mc:\\Users\\KURTD\\anaconda3\\envs\\dev\\lib\\site-packages\\pandas\\core\\apply.py:1289\u001b[0m, in \u001b[0;36mSeriesApply.apply_standard\u001b[1;34m(self)\u001b[0m\n\u001b[0;32m   1283\u001b[0m \u001b[38;5;66;03m# row-wise access\u001b[39;00m\n\u001b[0;32m   1284\u001b[0m \u001b[38;5;66;03m# apply doesn't have a `na_action` keyword and for backward compat reasons\u001b[39;00m\n\u001b[0;32m   1285\u001b[0m \u001b[38;5;66;03m# we need to give `na_action=\"ignore\"` for categorical data.\u001b[39;00m\n\u001b[0;32m   1286\u001b[0m \u001b[38;5;66;03m# TODO: remove the `na_action=\"ignore\"` when that default has been changed in\u001b[39;00m\n\u001b[0;32m   1287\u001b[0m \u001b[38;5;66;03m#  Categorical (GH51645).\u001b[39;00m\n\u001b[0;32m   1288\u001b[0m action \u001b[38;5;241m=\u001b[39m \u001b[38;5;124m\"\u001b[39m\u001b[38;5;124mignore\u001b[39m\u001b[38;5;124m\"\u001b[39m \u001b[38;5;28;01mif\u001b[39;00m \u001b[38;5;28misinstance\u001b[39m(obj\u001b[38;5;241m.\u001b[39mdtype, CategoricalDtype) \u001b[38;5;28;01melse\u001b[39;00m \u001b[38;5;28;01mNone\u001b[39;00m\n\u001b[1;32m-> 1289\u001b[0m mapped \u001b[38;5;241m=\u001b[39m \u001b[43mobj\u001b[49m\u001b[38;5;241;43m.\u001b[39;49m\u001b[43m_map_values\u001b[49m\u001b[43m(\u001b[49m\n\u001b[0;32m   1290\u001b[0m \u001b[43m    \u001b[49m\u001b[43mmapper\u001b[49m\u001b[38;5;241;43m=\u001b[39;49m\u001b[43mcurried\u001b[49m\u001b[43m,\u001b[49m\u001b[43m \u001b[49m\u001b[43mna_action\u001b[49m\u001b[38;5;241;43m=\u001b[39;49m\u001b[43maction\u001b[49m\u001b[43m,\u001b[49m\u001b[43m \u001b[49m\u001b[43mconvert\u001b[49m\u001b[38;5;241;43m=\u001b[39;49m\u001b[38;5;28;43mself\u001b[39;49m\u001b[38;5;241;43m.\u001b[39;49m\u001b[43mconvert_dtype\u001b[49m\n\u001b[0;32m   1291\u001b[0m \u001b[43m\u001b[49m\u001b[43m)\u001b[49m\n\u001b[0;32m   1293\u001b[0m \u001b[38;5;28;01mif\u001b[39;00m \u001b[38;5;28mlen\u001b[39m(mapped) \u001b[38;5;129;01mand\u001b[39;00m \u001b[38;5;28misinstance\u001b[39m(mapped[\u001b[38;5;241m0\u001b[39m], ABCSeries):\n\u001b[0;32m   1294\u001b[0m     \u001b[38;5;66;03m# GH#43986 Need to do list(mapped) in order to get treated as nested\u001b[39;00m\n\u001b[0;32m   1295\u001b[0m     \u001b[38;5;66;03m#  See also GH#25959 regarding EA support\u001b[39;00m\n\u001b[0;32m   1296\u001b[0m     \u001b[38;5;28;01mreturn\u001b[39;00m obj\u001b[38;5;241m.\u001b[39m_constructor_expanddim(\u001b[38;5;28mlist\u001b[39m(mapped), index\u001b[38;5;241m=\u001b[39mobj\u001b[38;5;241m.\u001b[39mindex)\n",
      "File \u001b[1;32mc:\\Users\\KURTD\\anaconda3\\envs\\dev\\lib\\site-packages\\pandas\\core\\base.py:921\u001b[0m, in \u001b[0;36mIndexOpsMixin._map_values\u001b[1;34m(self, mapper, na_action, convert)\u001b[0m\n\u001b[0;32m    918\u001b[0m \u001b[38;5;28;01mif\u001b[39;00m \u001b[38;5;28misinstance\u001b[39m(arr, ExtensionArray):\n\u001b[0;32m    919\u001b[0m     \u001b[38;5;28;01mreturn\u001b[39;00m arr\u001b[38;5;241m.\u001b[39mmap(mapper, na_action\u001b[38;5;241m=\u001b[39mna_action)\n\u001b[1;32m--> 921\u001b[0m \u001b[38;5;28;01mreturn\u001b[39;00m \u001b[43malgorithms\u001b[49m\u001b[38;5;241;43m.\u001b[39;49m\u001b[43mmap_array\u001b[49m\u001b[43m(\u001b[49m\u001b[43marr\u001b[49m\u001b[43m,\u001b[49m\u001b[43m \u001b[49m\u001b[43mmapper\u001b[49m\u001b[43m,\u001b[49m\u001b[43m \u001b[49m\u001b[43mna_action\u001b[49m\u001b[38;5;241;43m=\u001b[39;49m\u001b[43mna_action\u001b[49m\u001b[43m,\u001b[49m\u001b[43m \u001b[49m\u001b[43mconvert\u001b[49m\u001b[38;5;241;43m=\u001b[39;49m\u001b[43mconvert\u001b[49m\u001b[43m)\u001b[49m\n",
      "File \u001b[1;32mc:\\Users\\KURTD\\anaconda3\\envs\\dev\\lib\\site-packages\\pandas\\core\\algorithms.py:1814\u001b[0m, in \u001b[0;36mmap_array\u001b[1;34m(arr, mapper, na_action, convert)\u001b[0m\n\u001b[0;32m   1812\u001b[0m values \u001b[38;5;241m=\u001b[39m arr\u001b[38;5;241m.\u001b[39mastype(\u001b[38;5;28mobject\u001b[39m, copy\u001b[38;5;241m=\u001b[39m\u001b[38;5;28;01mFalse\u001b[39;00m)\n\u001b[0;32m   1813\u001b[0m \u001b[38;5;28;01mif\u001b[39;00m na_action \u001b[38;5;129;01mis\u001b[39;00m \u001b[38;5;28;01mNone\u001b[39;00m:\n\u001b[1;32m-> 1814\u001b[0m     \u001b[38;5;28;01mreturn\u001b[39;00m \u001b[43mlib\u001b[49m\u001b[38;5;241;43m.\u001b[39;49m\u001b[43mmap_infer\u001b[49m\u001b[43m(\u001b[49m\u001b[43mvalues\u001b[49m\u001b[43m,\u001b[49m\u001b[43m \u001b[49m\u001b[43mmapper\u001b[49m\u001b[43m,\u001b[49m\u001b[43m \u001b[49m\u001b[43mconvert\u001b[49m\u001b[38;5;241;43m=\u001b[39;49m\u001b[43mconvert\u001b[49m\u001b[43m)\u001b[49m\n\u001b[0;32m   1815\u001b[0m \u001b[38;5;28;01melse\u001b[39;00m:\n\u001b[0;32m   1816\u001b[0m     \u001b[38;5;28;01mreturn\u001b[39;00m lib\u001b[38;5;241m.\u001b[39mmap_infer_mask(\n\u001b[0;32m   1817\u001b[0m         values, mapper, mask\u001b[38;5;241m=\u001b[39misna(values)\u001b[38;5;241m.\u001b[39mview(np\u001b[38;5;241m.\u001b[39muint8), convert\u001b[38;5;241m=\u001b[39mconvert\n\u001b[0;32m   1818\u001b[0m     )\n",
      "File \u001b[1;32mlib.pyx:2926\u001b[0m, in \u001b[0;36mpandas._libs.lib.map_infer\u001b[1;34m()\u001b[0m\n",
      "Cell \u001b[1;32mIn[103], line 11\u001b[0m, in \u001b[0;36mformat_values\u001b[1;34m(x)\u001b[0m\n\u001b[0;32m     10\u001b[0m \u001b[38;5;28;01mdef\u001b[39;00m \u001b[38;5;21mformat_values\u001b[39m(x):\n\u001b[1;32m---> 11\u001b[0m     \u001b[38;5;28;01mreturn\u001b[39;00m \u001b[38;5;124m\"\u001b[39m\u001b[38;5;124m$\u001b[39m\u001b[38;5;132;01m{:,.2f}\u001b[39;00m\u001b[38;5;124mM\u001b[39m\u001b[38;5;124m\"\u001b[39m\u001b[38;5;241m.\u001b[39mformat(\u001b[43mx\u001b[49m\u001b[43m \u001b[49m\u001b[38;5;241;43m/\u001b[39;49m\u001b[43m \u001b[49m\u001b[38;5;241;43m1000000\u001b[39;49m)\n",
      "\u001b[1;31mTypeError\u001b[0m: unsupported operand type(s) for /: 'str' and 'int'"
     ]
    }
   ],
   "source": [
    "# Format the data and rename the columns\n",
    "# to names suitable for presentation.\n",
    "# Currency should be in millions of dollars.\n",
    "# pivot_df = pivot_df.rename(columns={'total_price': 'Total Sales', 'qty': 'Quantity'})\n",
    "\n",
    "# Convert DataFrame values to numbers\n",
    "summary_df = summary_df.apply(pd.to_numeric, errors='coerce')\n",
    "\n",
    "# Define a function to format values\n",
    "def format_values(x):\n",
    "    return \"${:,.2f}M\".format(x / 1000000)\n",
    "\n",
    "# Apply the function to the pivot table\n",
    "summary_df = summary_df.applymap(format_values)\n",
    "\n",
    "print(summary_df)\n",
    "summary_df['Total Sales'] = summary_df['total_price'].apply(format_values)\n",
    "summary_df['Quantity'] = summary_df['Quantity'].apply(format_values)\n",
    "print(summary_df)\n",
    "\n"
   ]
  },
  {
   "cell_type": "code",
   "execution_count": null,
   "id": "8ead0986",
   "metadata": {},
   "outputs": [],
   "source": [
    "# Sort the updated data by \"Total Profit\" form highest to lowest\n"
   ]
  },
  {
   "cell_type": "code",
   "execution_count": null,
   "id": "6589d63c",
   "metadata": {},
   "outputs": [],
   "source": []
  }
 ],
 "metadata": {
  "kernelspec": {
   "display_name": "dev",
   "language": "python",
   "name": "python3"
  },
  "language_info": {
   "codemirror_mode": {
    "name": "ipython",
    "version": 3
   },
   "file_extension": ".py",
   "mimetype": "text/x-python",
   "name": "python",
   "nbconvert_exporter": "python",
   "pygments_lexer": "ipython3",
   "version": "3.10.13"
  }
 },
 "nbformat": 4,
 "nbformat_minor": 5
}
